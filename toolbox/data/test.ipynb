{
 "cells": [
  {
   "cell_type": "code",
   "execution_count": null,
   "metadata": {},
   "outputs": [],
   "source": [
    "from _bigquery_pull import pull_data_from_bigquery, transform_data, write_preds_bigquery\n",
    "\n",
    "#import sys\n",
    "#import os\n",
    "#\n",
    "#module_dir = os.path.abspath(os.path.join(os.path.dirname(__file__),'.'))\n",
    "#sys.path.append(module_dir)\n",
    "\n",
    "\n",
    "#from data import read_data, pull_data_from_bigquery\n",
    "#from models import DNN\n",
    "#from evaluation import MAE, sMAPE\n",
    "import argparse\n",
    "import pandas as pd \n",
    "import numpy as np \n",
    "from google.cloud import bigquery\n",
    "\n",
    "\n",
    "client = bigquery.Client(project='643838572067')\n",
    "calibration_window = 1\n",
    "years_test = 1\n",
    "\n",
    "data, last_date = pull_data_from_bigquery(client, calibration_window)\n",
    "print('last_date: ', last_date)\n",
    "print('data.shape: ', data.shape)\n",
    "begin_test_date = last_date + pd.Timedelta(hours=1)\n",
    "end_test_date = begin_test_date + pd.Timedelta(hours=23)\n",
    "\n",
    "print('begin_test_date: ', begin_test_date)\n",
    "print('end_test_date: ', end_test_date)\n",
    "\n",
    "df_train, df_test = transform_data(data, begin_test_date, end_test_date)\n",
    "\n",
    "print('df_train.shape: ', df_train.shape)\n",
    "print('df_test.shape: ', df_test.shape)\n",
    "\n",
    "print('df_train.head(): ', df_train.head(1))"
   ]
  }
 ],
 "metadata": {
  "language_info": {
   "name": "python"
  },
  "orig_nbformat": 4
 },
 "nbformat": 4,
 "nbformat_minor": 2
}
